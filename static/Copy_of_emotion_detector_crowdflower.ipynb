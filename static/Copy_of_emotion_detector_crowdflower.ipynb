{
  "nbformat": 4,
  "nbformat_minor": 0,
  "metadata": {
    "colab": {
      "name": "Copy of emotion_detector_crowdflower.ipynb",
      "provenance": [],
      "collapsed_sections": []
    },
    "kernelspec": {
      "name": "python3",
      "display_name": "Python 3"
    },
    "accelerator": "GPU"
  },
  "cells": [
    {
      "cell_type": "code",
      "metadata": {
        "id": "4e6rsA5Nn2Xr",
        "colab": {
          "base_uri": "https://localhost:8080/"
        },
        "outputId": "6b67581e-9a48-4b7a-b14a-a3c20d4d4473"
      },
      "source": [
        "import keras\n",
        "import numpy as np\n",
        "from keras.models import Sequential,Model\n",
        "from keras.layers import Dense,Dropout,LSTM,Input,Bidirectional\n",
        "from sklearn.model_selection import cross_val_score \n",
        "from nltk.tokenize import word_tokenize,sent_tokenize\n",
        "from ast import literal_eval\n",
        "import nltk\n",
        "nltk.download('punkt')"
      ],
      "execution_count": 1,
      "outputs": [
        {
          "output_type": "stream",
          "text": [
            "[nltk_data] Downloading package punkt to /root/nltk_data...\n",
            "[nltk_data]   Unzipping tokenizers/punkt.zip.\n"
          ],
          "name": "stdout"
        },
        {
          "output_type": "execute_result",
          "data": {
            "text/plain": [
              "True"
            ]
          },
          "metadata": {
            "tags": []
          },
          "execution_count": 1
        }
      ]
    },
    {
      "cell_type": "code",
      "metadata": {
        "id": "blsPirVfyHVf"
      },
      "source": [
        "import keras\n",
        "import numpy as np\n",
        "from keras.layers import *\n",
        "from sklearn.model_selection import cross_val_score "
      ],
      "execution_count": 2,
      "outputs": []
    },
    {
      "cell_type": "code",
      "metadata": {
        "id": "p-YgQkCelA1m",
        "colab": {
          "base_uri": "https://localhost:8080/"
        },
        "outputId": "f4c5df0c-c855-4805-cd9e-2f5a3eb775ca"
      },
      "source": [
        "from google.colab import drive\n",
        "drive.mount('/content/drive')"
      ],
      "execution_count": 3,
      "outputs": [
        {
          "output_type": "stream",
          "text": [
            "Mounted at /content/drive\n"
          ],
          "name": "stdout"
        }
      ]
    },
    {
      "cell_type": "markdown",
      "metadata": {
        "id": "H_PJZ5fz1Tl3"
      },
      "source": [
        "Remove the rows which contains values ['No resposne']"
      ]
    },
    {
      "cell_type": "code",
      "metadata": {
        "id": "AJH_xHURn5xd",
        "colab": {
          "base_uri": "https://localhost:8080/"
        },
        "outputId": "3d9ab407-4872-4f24-a899-f03ca07c8fb6"
      },
      "source": [
        "import pandas as pd\n",
        "df=pd.read_csv('/content/drive/My Drive/text_emotion.csv')\n",
        "print(len(df))"
      ],
      "execution_count": 4,
      "outputs": [
        {
          "output_type": "stream",
          "text": [
            "40000\n"
          ],
          "name": "stdout"
        }
      ]
    },
    {
      "cell_type": "code",
      "metadata": {
        "id": "VLhSlGBaz-dF",
        "colab": {
          "base_uri": "https://localhost:8080/",
          "height": 195
        },
        "outputId": "2f4b39ff-5ec7-475d-90bb-f048576859ff"
      },
      "source": [
        "df=df.drop(['tweet_id','author'], axis = 1) \n",
        "import re\n",
        "df['content'] = df['content'].str.replace(re.compile('http\\S+'),'')\n",
        "df['content'] = df['content'].str.replace(re.compile('@\\w+'),'')\n",
        "# Removing words which starts with '#'(representing any trend) in the tweets\n",
        "\n",
        "df['content'] = df['content'].str.replace(re.compile('#\\w+'),'')\n",
        "# phrases cleaning & punctuation removal\n",
        "def sentence_cleaning(sentence):\n",
        "    sentence=re.sub('\\'d',' would',sentence)\n",
        "    sentence=re.sub('\\'ll',' will',sentence)\n",
        "    sentence=re.sub('\\'ve',' have',sentence)\n",
        "    sentence=re.sub('\\'s',' is',sentence)\n",
        "    sentence=re.sub('n\\'t',' not',sentence)\n",
        "    sentence=re.sub(\"won't\",' will not',sentence)\n",
        "    sentence=re.sub(\"can't\",' cannot',sentence)\n",
        "    sentence=re.sub(\"ain't\",' am not',sentence)\n",
        "    sentence=re.sub('\\W',' ',sentence) #'\\W' to remove all non-alphanumeric characters(punctuations)\n",
        "    sentence=sentence.lower()\n",
        "    return sentence\n",
        "df['content'] = df['content'].apply(sentence_cleaning)\n",
        "df.head()\n"
      ],
      "execution_count": 5,
      "outputs": [
        {
          "output_type": "execute_result",
          "data": {
            "text/html": [
              "<div>\n",
              "<style scoped>\n",
              "    .dataframe tbody tr th:only-of-type {\n",
              "        vertical-align: middle;\n",
              "    }\n",
              "\n",
              "    .dataframe tbody tr th {\n",
              "        vertical-align: top;\n",
              "    }\n",
              "\n",
              "    .dataframe thead th {\n",
              "        text-align: right;\n",
              "    }\n",
              "</style>\n",
              "<table border=\"1\" class=\"dataframe\">\n",
              "  <thead>\n",
              "    <tr style=\"text-align: right;\">\n",
              "      <th></th>\n",
              "      <th>sentiment</th>\n",
              "      <th>content</th>\n",
              "    </tr>\n",
              "  </thead>\n",
              "  <tbody>\n",
              "    <tr>\n",
              "      <th>0</th>\n",
              "      <td>empty</td>\n",
              "      <td>i know  i was listenin to bad habit earlier a...</td>\n",
              "    </tr>\n",
              "    <tr>\n",
              "      <th>1</th>\n",
              "      <td>sadness</td>\n",
              "      <td>layin n bed with a headache  ughhhh   waitin o...</td>\n",
              "    </tr>\n",
              "    <tr>\n",
              "      <th>2</th>\n",
              "      <td>sadness</td>\n",
              "      <td>funeral ceremony   gloomy friday</td>\n",
              "    </tr>\n",
              "    <tr>\n",
              "      <th>3</th>\n",
              "      <td>enthusiasm</td>\n",
              "      <td>wants to hang out with friends soon</td>\n",
              "    </tr>\n",
              "    <tr>\n",
              "      <th>4</th>\n",
              "      <td>neutral</td>\n",
              "      <td>we want to trade with someone who has houston...</td>\n",
              "    </tr>\n",
              "  </tbody>\n",
              "</table>\n",
              "</div>"
            ],
            "text/plain": [
              "    sentiment                                            content\n",
              "0       empty   i know  i was listenin to bad habit earlier a...\n",
              "1     sadness  layin n bed with a headache  ughhhh   waitin o...\n",
              "2     sadness                funeral ceremony   gloomy friday   \n",
              "3  enthusiasm               wants to hang out with friends soon \n",
              "4     neutral   we want to trade with someone who has houston..."
            ]
          },
          "metadata": {
            "tags": []
          },
          "execution_count": 5
        }
      ]
    },
    {
      "cell_type": "code",
      "metadata": {
        "id": "AnpkL3xajcUN"
      },
      "source": [
        "# We are going to work on only five  emotions i.e happiness, worry,sadness,surprise,anger.\r\n",
        "index_names = df[ df['sentiment'] == 'empty' ].index \r\n",
        "df.drop(index_names, inplace = True) "
      ],
      "execution_count": 6,
      "outputs": []
    },
    {
      "cell_type": "code",
      "metadata": {
        "id": "9kQOO5zTjf9k"
      },
      "source": [
        "index_names = df[ df['sentiment'] == 'boredom' ].index \r\n",
        "df.drop(index_names, inplace = True) "
      ],
      "execution_count": 7,
      "outputs": []
    },
    {
      "cell_type": "code",
      "metadata": {
        "id": "96nc2q5KjiKr"
      },
      "source": [
        "index_names = df[ df['sentiment'] == 'enthusiasm' ].index \r\n",
        "df.drop(index_names, inplace = True) "
      ],
      "execution_count": 8,
      "outputs": []
    },
    {
      "cell_type": "code",
      "metadata": {
        "id": "25dchSkejkXu"
      },
      "source": [
        "index_names = df[ df['sentiment'] == 'fun' ].index \r\n",
        "df.drop(index_names, inplace = True) "
      ],
      "execution_count": 9,
      "outputs": []
    },
    {
      "cell_type": "code",
      "metadata": {
        "id": "P2QlTPNfjmeU"
      },
      "source": [
        "index_names = df[ df['sentiment'] == 'hate' ].index \r\n",
        "df.drop(index_names, inplace = True) "
      ],
      "execution_count": 10,
      "outputs": []
    },
    {
      "cell_type": "code",
      "metadata": {
        "id": "l-ao0OLAjnS-"
      },
      "source": [
        "index_names = df[ df['sentiment'] == 'neutral' ].index \r\n",
        "df.drop(index_names, inplace = True) "
      ],
      "execution_count": 11,
      "outputs": []
    },
    {
      "cell_type": "code",
      "metadata": {
        "id": "IEAO6RTfjqw3"
      },
      "source": [
        "index_names = df[ df['sentiment'] == 'love' ].index \r\n",
        "df.drop(index_names, inplace = True) "
      ],
      "execution_count": 12,
      "outputs": []
    },
    {
      "cell_type": "code",
      "metadata": {
        "id": "DLh0QHdCjs0x"
      },
      "source": [
        "index_names = df[ df['sentiment'] == 'relief' ].index \r\n",
        "df.drop(index_names, inplace = True) "
      ],
      "execution_count": 13,
      "outputs": []
    },
    {
      "cell_type": "code",
      "metadata": {
        "id": "6WDxR68dkU2-"
      },
      "source": [
        "# Make Own Index as index \r\n",
        "# In this case default index is exist  \r\n",
        "df.reset_index(inplace = True) "
      ],
      "execution_count": 14,
      "outputs": []
    },
    {
      "cell_type": "code",
      "metadata": {
        "colab": {
          "base_uri": "https://localhost:8080/"
        },
        "id": "h7I-s31wizRg",
        "outputId": "5578b6b9-a52f-46ff-8eaf-6ac96eb20258"
      },
      "source": [
        "texts=df['content']\r\n",
        "print(texts)"
      ],
      "execution_count": 15,
      "outputs": [
        {
          "output_type": "stream",
          "text": [
            "0        layin n bed with a headache  ughhhh   waitin o...\n",
            "1                      funeral ceremony   gloomy friday   \n",
            "2        re pinging   why did not you go to prom  bc my...\n",
            "3        i should be sleep  but im not  thinking about ...\n",
            "4                                           hmmm   is down\n",
            "                               ...                        \n",
            "21125    going to watch boy in the striped pj is hope i...\n",
            "21126    gave the bikes a thorough wash  degrease it an...\n",
            "21127    had such and amazing time last night  mcfly we...\n",
            "21128                        succesfully following tayla  \n",
            "21129     wassup beautiful    follow me    peep out my ...\n",
            "Name: content, Length: 21130, dtype: object\n"
          ],
          "name": "stdout"
        }
      ]
    },
    {
      "cell_type": "code",
      "metadata": {
        "id": "zE031wSFqUWZ",
        "colab": {
          "base_uri": "https://localhost:8080/"
        },
        "outputId": "2a6e17a4-d633-4164-facd-47da67bf295d"
      },
      "source": [
        "texts=[word_tokenize(sent) for sent in texts]\n",
        "print(texts[0])"
      ],
      "execution_count": 16,
      "outputs": [
        {
          "output_type": "stream",
          "text": [
            "['layin', 'n', 'bed', 'with', 'a', 'headache', 'ughhhh', 'waitin', 'on', 'your', 'call']\n"
          ],
          "name": "stdout"
        }
      ]
    },
    {
      "cell_type": "code",
      "metadata": {
        "id": "yrpIWNPfpl-n"
      },
      "source": [
        "def padd(arr):\n",
        "    for i in range(50-len(arr)):\n",
        "        arr.append('<pre>')\n",
        "    return arr[:50]\n",
        "for i in range(len(texts)):\n",
        "  texts[i]=padd(texts[i])"
      ],
      "execution_count": 17,
      "outputs": []
    },
    {
      "cell_type": "code",
      "metadata": {
        "id": "B9rHBx9Fq2aT"
      },
      "source": [
        "vocab_f=open('/content/drive/My Drive/glove.6B.50d.txt')\n",
        "word_to_emb={}\n",
        "for line in vocab_f:\n",
        "  word_to_emb[line.split()[0]]=[float(i) for i in line.split()[1:]] \n",
        "word_to_emb['<pre>']=[0]*50"
      ],
      "execution_count": 18,
      "outputs": []
    },
    {
      "cell_type": "code",
      "metadata": {
        "id": "pEcTRjK0sWeq",
        "colab": {
          "base_uri": "https://localhost:8080/"
        },
        "outputId": "7589b411-bfac-407e-bfa1-cf21b87e9c97"
      },
      "source": [
        "embedded_arr=[] \n",
        "for each_sentence in texts:\n",
        "    embedded_arr.append([])\n",
        "    for word in each_sentence:\n",
        "        if word.lower() in word_to_emb:\n",
        "            embedded_arr[-1].append(word_to_emb[word.lower()])\n",
        "        else:\n",
        "            embedded_arr[-1].append([0]*50)\n",
        "print(embedded_arr[0])"
      ],
      "execution_count": 19,
      "outputs": [
        {
          "output_type": "stream",
          "text": [
            "[[0.062774, 0.25423, 0.54447, -0.49013, -0.48846, 0.7485, -0.172, 0.35337, -0.19946, 1.1631, -0.47937, 0.27788, -0.7734, 1.027, -0.78503, -0.50238, 0.11522, -0.92131, 0.16118, 0.089774, -0.22911, -0.23128, -0.1429, -0.45046, 0.38843, 0.39312, 0.24965, 0.34096, 1.0334, -0.0048145, -0.65535, 0.42406, -1.0536, 1.3787, 0.20906, -0.18762, 0.247, 0.024948, 0.59644, 0.34294, -0.061858, -0.65872, -1.2111, 0.24885, -0.027022, -0.78659, 1.2393, 0.37686, 0.89725, -0.21693], [-0.27004, 1.1144, 1.0493, 0.57924, 0.78968, 0.14137, 1.4291, -1.0101, -0.78908, -0.27072, -0.21101, 0.29724, -0.37254, -0.31723, -0.51419, 0.35462, 0.35406, -0.093878, -0.25165, -0.62402, -0.064895, -0.97966, 1.8001, 0.95118, -0.69039, 0.2324, -0.55899, 0.16657, 0.33153, 0.023364, 2.0653, -0.45236, -0.67552, 0.34039, 0.60026, -1.1793, 0.88805, -0.92985, 0.020351, 0.68063, 0.85255, -0.097895, -0.68661, -0.2147, -0.70778, 0.35091, 0.31743, -0.77324, 0.42681, 1.0782], [0.75344, 0.96383, 0.10188, -0.67978, 0.38461, 0.027779, -0.30988, -0.079104, 0.41609, -0.69129, -0.43769, 0.17378, 0.039337, 0.64399, 0.38474, 1.0656, -0.3348, 0.32552, 0.26685, -0.56204, 0.4466, 1.2091, 0.75209, 0.030775, 0.15676, -0.60153, -0.27828, 1.3081, 0.95327, -0.097407, 2.3159, -0.014026, 0.0022539, 0.93128, 0.27921, 0.79418, 0.61177, 0.18765, 1.3139, -0.19539, -0.18425, -0.017415, -0.10331, 0.76474, 0.3784, -0.35513, 0.27358, -1.7427, 0.2919, -0.27653], [0.25616, 0.43694, -0.11889, 0.20345, 0.41959, 0.85863, -0.60344, -0.31835, -0.6718, 0.003984, -0.075159, 0.11043, -0.73534, 0.27436, 0.054015, -0.23828, -0.13767, 0.011573, -0.46623, -0.55233, 0.083317, 0.55938, 0.51903, -0.27065, -0.28211, -1.3918, 0.17498, 0.26586, 0.061449, -0.273, 3.9032, 0.38169, -0.056009, -0.004425, 0.24033, 0.30675, -0.12638, 0.33436, 0.075485, -0.036218, 0.13691, 0.37762, -0.12159, -0.13808, 0.19505, 0.22793, -0.17304, -0.07573, -0.25868, -0.39339], [0.21705, 0.46515, -0.46757, 0.10082, 1.0135, 0.74845, -0.53104, -0.26256, 0.16812, 0.13182, -0.24909, -0.44185, -0.21739, 0.51004, 0.13448, -0.43141, -0.03123, 0.20674, -0.78138, -0.20148, -0.097401, 0.16088, -0.61836, -0.18504, -0.12461, -2.2526, -0.22321, 0.5043, 0.32257, 0.15313, 3.9636, -0.71365, -0.67012, 0.28388, 0.21738, 0.14433, 0.25926, 0.23434, 0.4274, -0.44451, 0.13813, 0.36973, -0.64289, 0.024142, -0.039315, -0.26037, 0.12017, -0.043782, 0.41013, 0.1796], [0.7525, 0.14116, -0.67312, 0.037583, -1.0109, 0.75425, 1.0019, 0.54622, 0.444, 0.12879, 0.12376, -0.20498, -0.24834, -0.24932, 0.14551, 0.29167, -1.0127, 0.28417, 0.042472, -0.50112, -0.8391, -0.014835, -0.0047541, -0.064109, 0.096276, -0.93858, -0.7831, 0.7969, 0.40042, 0.73211, 1.3838, 1.8764, 0.46873, 0.10038, -0.61089, 0.61915, -0.022651, 0.089625, 1.0924, -0.3537, -0.12733, 0.63335, -0.97594, 0.74266, 1.1016, 0.83819, 0.40641, 0.95276, 0.095842, 0.23352], [0, 0, 0, 0, 0, 0, 0, 0, 0, 0, 0, 0, 0, 0, 0, 0, 0, 0, 0, 0, 0, 0, 0, 0, 0, 0, 0, 0, 0, 0, 0, 0, 0, 0, 0, 0, 0, 0, 0, 0, 0, 0, 0, 0, 0, 0, 0, 0, 0, 0], [-0.32792, 0.66138, -0.39756, -1.4494, -0.60463, -0.78088, -0.71053, -0.32335, 1.3286, 0.3162, -0.74678, 0.53212, -0.10456, 0.87118, -0.25451, -0.41358, -0.082398, -0.45146, 0.86076, 0.66533, -0.58627, 1.2835, 0.86189, 0.23226, -0.14279, 0.48113, -0.77429, 1.1953, 0.31601, -0.60303, -0.58689, 1.4636, -0.81429, 1.051, 0.21667, -0.16713, 1.607, -1.2327, -0.32921, -0.28742, -0.67377, -0.67561, -0.47143, -0.21765, -0.8398, -0.24038, -0.41267, 0.22157, 0.9702, 0.40879], [0.30045, 0.25006, -0.16692, 0.1923, 0.026921, -0.079486, -0.91383, -0.1974, -0.053413, -0.40846, -0.26844, -0.28212, -0.5, 0.1221, 0.3903, 0.17797, -0.4429, -0.40478, -0.9505, -0.16897, 0.77793, 0.33525, 0.3346, -0.1754, -0.12017, -1.7861, 0.29241, 0.55933, 0.029982, -0.32417, 3.9297, 0.1088, -0.57335, -0.17842, 0.0041748, -0.16309, 0.45077, -0.16123, -0.17311, -0.087889, -0.089032, 0.062001, -0.19946, -0.38863, -0.18232, 0.060751, 0.098603, -0.07131, 0.23052, -0.51939], [-0.029163, 0.81769, 0.3847, -0.77857, 1.1049, -0.13655, -0.024691, -0.051103, 0.7795, 0.051357, -0.35748, 1.1748, -0.098244, 0.33111, 0.40426, 0.58685, -0.62536, 0.094833, 0.97024, -1.1437, 0.13826, 0.28136, 0.46693, 0.35226, 0.68916, -1.9819, -1.4, 0.17001, 1.5929, -1.0086, 3.6499, 1.3949, -0.78823, 0.40404, -0.36925, 0.73075, 0.027513, -0.11993, 0.73716, -1.0365, 0.68659, -0.30294, -0.55175, 0.96466, 0.053103, -0.084807, 0.8512, -0.54186, 0.32453, 0.58425], [0.098201, 0.39924, 0.25697, -0.085349, 0.27175, -0.63637, -0.62719, 0.25895, -0.53249, -0.22927, -0.76258, 0.2173, 0.37017, 0.082194, 0.46016, 0.14439, -0.35333, -0.62408, 0.1025, -0.58597, 0.16874, 0.41939, 0.082275, 0.48931, 0.62348, -1.8434, -0.11815, -0.25465, 0.38033, -0.41893, 3.0159, 0.35014, -1.2656, -0.14951, -0.32056, -0.72769, 0.5398, -1.2532, -0.013795, -0.0048093, 0.37453, 0.41136, -0.12614, 0.48701, 0.4782, 0.35898, -0.1709, 0.70284, 0.32207, 0.77503], [0, 0, 0, 0, 0, 0, 0, 0, 0, 0, 0, 0, 0, 0, 0, 0, 0, 0, 0, 0, 0, 0, 0, 0, 0, 0, 0, 0, 0, 0, 0, 0, 0, 0, 0, 0, 0, 0, 0, 0, 0, 0, 0, 0, 0, 0, 0, 0, 0, 0], [0, 0, 0, 0, 0, 0, 0, 0, 0, 0, 0, 0, 0, 0, 0, 0, 0, 0, 0, 0, 0, 0, 0, 0, 0, 0, 0, 0, 0, 0, 0, 0, 0, 0, 0, 0, 0, 0, 0, 0, 0, 0, 0, 0, 0, 0, 0, 0, 0, 0], [0, 0, 0, 0, 0, 0, 0, 0, 0, 0, 0, 0, 0, 0, 0, 0, 0, 0, 0, 0, 0, 0, 0, 0, 0, 0, 0, 0, 0, 0, 0, 0, 0, 0, 0, 0, 0, 0, 0, 0, 0, 0, 0, 0, 0, 0, 0, 0, 0, 0], [0, 0, 0, 0, 0, 0, 0, 0, 0, 0, 0, 0, 0, 0, 0, 0, 0, 0, 0, 0, 0, 0, 0, 0, 0, 0, 0, 0, 0, 0, 0, 0, 0, 0, 0, 0, 0, 0, 0, 0, 0, 0, 0, 0, 0, 0, 0, 0, 0, 0], [0, 0, 0, 0, 0, 0, 0, 0, 0, 0, 0, 0, 0, 0, 0, 0, 0, 0, 0, 0, 0, 0, 0, 0, 0, 0, 0, 0, 0, 0, 0, 0, 0, 0, 0, 0, 0, 0, 0, 0, 0, 0, 0, 0, 0, 0, 0, 0, 0, 0], [0, 0, 0, 0, 0, 0, 0, 0, 0, 0, 0, 0, 0, 0, 0, 0, 0, 0, 0, 0, 0, 0, 0, 0, 0, 0, 0, 0, 0, 0, 0, 0, 0, 0, 0, 0, 0, 0, 0, 0, 0, 0, 0, 0, 0, 0, 0, 0, 0, 0], [0, 0, 0, 0, 0, 0, 0, 0, 0, 0, 0, 0, 0, 0, 0, 0, 0, 0, 0, 0, 0, 0, 0, 0, 0, 0, 0, 0, 0, 0, 0, 0, 0, 0, 0, 0, 0, 0, 0, 0, 0, 0, 0, 0, 0, 0, 0, 0, 0, 0], [0, 0, 0, 0, 0, 0, 0, 0, 0, 0, 0, 0, 0, 0, 0, 0, 0, 0, 0, 0, 0, 0, 0, 0, 0, 0, 0, 0, 0, 0, 0, 0, 0, 0, 0, 0, 0, 0, 0, 0, 0, 0, 0, 0, 0, 0, 0, 0, 0, 0], [0, 0, 0, 0, 0, 0, 0, 0, 0, 0, 0, 0, 0, 0, 0, 0, 0, 0, 0, 0, 0, 0, 0, 0, 0, 0, 0, 0, 0, 0, 0, 0, 0, 0, 0, 0, 0, 0, 0, 0, 0, 0, 0, 0, 0, 0, 0, 0, 0, 0], [0, 0, 0, 0, 0, 0, 0, 0, 0, 0, 0, 0, 0, 0, 0, 0, 0, 0, 0, 0, 0, 0, 0, 0, 0, 0, 0, 0, 0, 0, 0, 0, 0, 0, 0, 0, 0, 0, 0, 0, 0, 0, 0, 0, 0, 0, 0, 0, 0, 0], [0, 0, 0, 0, 0, 0, 0, 0, 0, 0, 0, 0, 0, 0, 0, 0, 0, 0, 0, 0, 0, 0, 0, 0, 0, 0, 0, 0, 0, 0, 0, 0, 0, 0, 0, 0, 0, 0, 0, 0, 0, 0, 0, 0, 0, 0, 0, 0, 0, 0], [0, 0, 0, 0, 0, 0, 0, 0, 0, 0, 0, 0, 0, 0, 0, 0, 0, 0, 0, 0, 0, 0, 0, 0, 0, 0, 0, 0, 0, 0, 0, 0, 0, 0, 0, 0, 0, 0, 0, 0, 0, 0, 0, 0, 0, 0, 0, 0, 0, 0], [0, 0, 0, 0, 0, 0, 0, 0, 0, 0, 0, 0, 0, 0, 0, 0, 0, 0, 0, 0, 0, 0, 0, 0, 0, 0, 0, 0, 0, 0, 0, 0, 0, 0, 0, 0, 0, 0, 0, 0, 0, 0, 0, 0, 0, 0, 0, 0, 0, 0], [0, 0, 0, 0, 0, 0, 0, 0, 0, 0, 0, 0, 0, 0, 0, 0, 0, 0, 0, 0, 0, 0, 0, 0, 0, 0, 0, 0, 0, 0, 0, 0, 0, 0, 0, 0, 0, 0, 0, 0, 0, 0, 0, 0, 0, 0, 0, 0, 0, 0], [0, 0, 0, 0, 0, 0, 0, 0, 0, 0, 0, 0, 0, 0, 0, 0, 0, 0, 0, 0, 0, 0, 0, 0, 0, 0, 0, 0, 0, 0, 0, 0, 0, 0, 0, 0, 0, 0, 0, 0, 0, 0, 0, 0, 0, 0, 0, 0, 0, 0], [0, 0, 0, 0, 0, 0, 0, 0, 0, 0, 0, 0, 0, 0, 0, 0, 0, 0, 0, 0, 0, 0, 0, 0, 0, 0, 0, 0, 0, 0, 0, 0, 0, 0, 0, 0, 0, 0, 0, 0, 0, 0, 0, 0, 0, 0, 0, 0, 0, 0], [0, 0, 0, 0, 0, 0, 0, 0, 0, 0, 0, 0, 0, 0, 0, 0, 0, 0, 0, 0, 0, 0, 0, 0, 0, 0, 0, 0, 0, 0, 0, 0, 0, 0, 0, 0, 0, 0, 0, 0, 0, 0, 0, 0, 0, 0, 0, 0, 0, 0], [0, 0, 0, 0, 0, 0, 0, 0, 0, 0, 0, 0, 0, 0, 0, 0, 0, 0, 0, 0, 0, 0, 0, 0, 0, 0, 0, 0, 0, 0, 0, 0, 0, 0, 0, 0, 0, 0, 0, 0, 0, 0, 0, 0, 0, 0, 0, 0, 0, 0], [0, 0, 0, 0, 0, 0, 0, 0, 0, 0, 0, 0, 0, 0, 0, 0, 0, 0, 0, 0, 0, 0, 0, 0, 0, 0, 0, 0, 0, 0, 0, 0, 0, 0, 0, 0, 0, 0, 0, 0, 0, 0, 0, 0, 0, 0, 0, 0, 0, 0], [0, 0, 0, 0, 0, 0, 0, 0, 0, 0, 0, 0, 0, 0, 0, 0, 0, 0, 0, 0, 0, 0, 0, 0, 0, 0, 0, 0, 0, 0, 0, 0, 0, 0, 0, 0, 0, 0, 0, 0, 0, 0, 0, 0, 0, 0, 0, 0, 0, 0], [0, 0, 0, 0, 0, 0, 0, 0, 0, 0, 0, 0, 0, 0, 0, 0, 0, 0, 0, 0, 0, 0, 0, 0, 0, 0, 0, 0, 0, 0, 0, 0, 0, 0, 0, 0, 0, 0, 0, 0, 0, 0, 0, 0, 0, 0, 0, 0, 0, 0], [0, 0, 0, 0, 0, 0, 0, 0, 0, 0, 0, 0, 0, 0, 0, 0, 0, 0, 0, 0, 0, 0, 0, 0, 0, 0, 0, 0, 0, 0, 0, 0, 0, 0, 0, 0, 0, 0, 0, 0, 0, 0, 0, 0, 0, 0, 0, 0, 0, 0], [0, 0, 0, 0, 0, 0, 0, 0, 0, 0, 0, 0, 0, 0, 0, 0, 0, 0, 0, 0, 0, 0, 0, 0, 0, 0, 0, 0, 0, 0, 0, 0, 0, 0, 0, 0, 0, 0, 0, 0, 0, 0, 0, 0, 0, 0, 0, 0, 0, 0], [0, 0, 0, 0, 0, 0, 0, 0, 0, 0, 0, 0, 0, 0, 0, 0, 0, 0, 0, 0, 0, 0, 0, 0, 0, 0, 0, 0, 0, 0, 0, 0, 0, 0, 0, 0, 0, 0, 0, 0, 0, 0, 0, 0, 0, 0, 0, 0, 0, 0], [0, 0, 0, 0, 0, 0, 0, 0, 0, 0, 0, 0, 0, 0, 0, 0, 0, 0, 0, 0, 0, 0, 0, 0, 0, 0, 0, 0, 0, 0, 0, 0, 0, 0, 0, 0, 0, 0, 0, 0, 0, 0, 0, 0, 0, 0, 0, 0, 0, 0], [0, 0, 0, 0, 0, 0, 0, 0, 0, 0, 0, 0, 0, 0, 0, 0, 0, 0, 0, 0, 0, 0, 0, 0, 0, 0, 0, 0, 0, 0, 0, 0, 0, 0, 0, 0, 0, 0, 0, 0, 0, 0, 0, 0, 0, 0, 0, 0, 0, 0], [0, 0, 0, 0, 0, 0, 0, 0, 0, 0, 0, 0, 0, 0, 0, 0, 0, 0, 0, 0, 0, 0, 0, 0, 0, 0, 0, 0, 0, 0, 0, 0, 0, 0, 0, 0, 0, 0, 0, 0, 0, 0, 0, 0, 0, 0, 0, 0, 0, 0], [0, 0, 0, 0, 0, 0, 0, 0, 0, 0, 0, 0, 0, 0, 0, 0, 0, 0, 0, 0, 0, 0, 0, 0, 0, 0, 0, 0, 0, 0, 0, 0, 0, 0, 0, 0, 0, 0, 0, 0, 0, 0, 0, 0, 0, 0, 0, 0, 0, 0], [0, 0, 0, 0, 0, 0, 0, 0, 0, 0, 0, 0, 0, 0, 0, 0, 0, 0, 0, 0, 0, 0, 0, 0, 0, 0, 0, 0, 0, 0, 0, 0, 0, 0, 0, 0, 0, 0, 0, 0, 0, 0, 0, 0, 0, 0, 0, 0, 0, 0], [0, 0, 0, 0, 0, 0, 0, 0, 0, 0, 0, 0, 0, 0, 0, 0, 0, 0, 0, 0, 0, 0, 0, 0, 0, 0, 0, 0, 0, 0, 0, 0, 0, 0, 0, 0, 0, 0, 0, 0, 0, 0, 0, 0, 0, 0, 0, 0, 0, 0], [0, 0, 0, 0, 0, 0, 0, 0, 0, 0, 0, 0, 0, 0, 0, 0, 0, 0, 0, 0, 0, 0, 0, 0, 0, 0, 0, 0, 0, 0, 0, 0, 0, 0, 0, 0, 0, 0, 0, 0, 0, 0, 0, 0, 0, 0, 0, 0, 0, 0], [0, 0, 0, 0, 0, 0, 0, 0, 0, 0, 0, 0, 0, 0, 0, 0, 0, 0, 0, 0, 0, 0, 0, 0, 0, 0, 0, 0, 0, 0, 0, 0, 0, 0, 0, 0, 0, 0, 0, 0, 0, 0, 0, 0, 0, 0, 0, 0, 0, 0], [0, 0, 0, 0, 0, 0, 0, 0, 0, 0, 0, 0, 0, 0, 0, 0, 0, 0, 0, 0, 0, 0, 0, 0, 0, 0, 0, 0, 0, 0, 0, 0, 0, 0, 0, 0, 0, 0, 0, 0, 0, 0, 0, 0, 0, 0, 0, 0, 0, 0], [0, 0, 0, 0, 0, 0, 0, 0, 0, 0, 0, 0, 0, 0, 0, 0, 0, 0, 0, 0, 0, 0, 0, 0, 0, 0, 0, 0, 0, 0, 0, 0, 0, 0, 0, 0, 0, 0, 0, 0, 0, 0, 0, 0, 0, 0, 0, 0, 0, 0], [0, 0, 0, 0, 0, 0, 0, 0, 0, 0, 0, 0, 0, 0, 0, 0, 0, 0, 0, 0, 0, 0, 0, 0, 0, 0, 0, 0, 0, 0, 0, 0, 0, 0, 0, 0, 0, 0, 0, 0, 0, 0, 0, 0, 0, 0, 0, 0, 0, 0], [0, 0, 0, 0, 0, 0, 0, 0, 0, 0, 0, 0, 0, 0, 0, 0, 0, 0, 0, 0, 0, 0, 0, 0, 0, 0, 0, 0, 0, 0, 0, 0, 0, 0, 0, 0, 0, 0, 0, 0, 0, 0, 0, 0, 0, 0, 0, 0, 0, 0], [0, 0, 0, 0, 0, 0, 0, 0, 0, 0, 0, 0, 0, 0, 0, 0, 0, 0, 0, 0, 0, 0, 0, 0, 0, 0, 0, 0, 0, 0, 0, 0, 0, 0, 0, 0, 0, 0, 0, 0, 0, 0, 0, 0, 0, 0, 0, 0, 0, 0], [0, 0, 0, 0, 0, 0, 0, 0, 0, 0, 0, 0, 0, 0, 0, 0, 0, 0, 0, 0, 0, 0, 0, 0, 0, 0, 0, 0, 0, 0, 0, 0, 0, 0, 0, 0, 0, 0, 0, 0, 0, 0, 0, 0, 0, 0, 0, 0, 0, 0], [0, 0, 0, 0, 0, 0, 0, 0, 0, 0, 0, 0, 0, 0, 0, 0, 0, 0, 0, 0, 0, 0, 0, 0, 0, 0, 0, 0, 0, 0, 0, 0, 0, 0, 0, 0, 0, 0, 0, 0, 0, 0, 0, 0, 0, 0, 0, 0, 0, 0]]\n"
          ],
          "name": "stdout"
        }
      ]
    },
    {
      "cell_type": "code",
      "metadata": {
        "id": "SpfJdtiitSfq",
        "colab": {
          "base_uri": "https://localhost:8080/"
        },
        "outputId": "905be22e-dc8c-47d9-d988-3abbfedab350"
      },
      "source": [
        "X=np.array(embedded_arr)\n",
        "print(np.shape(X))"
      ],
      "execution_count": 20,
      "outputs": [
        {
          "output_type": "stream",
          "text": [
            "(21130, 50, 50)\n"
          ],
          "name": "stdout"
        }
      ]
    },
    {
      "cell_type": "code",
      "metadata": {
        "colab": {
          "base_uri": "https://localhost:8080/"
        },
        "id": "UTCeHNFbw6FP",
        "outputId": "51986acc-04f6-4927-fdae-c7782f36fbf4"
      },
      "source": [
        "y = df['sentiment'].unique()\r\n",
        "print(y)"
      ],
      "execution_count": 21,
      "outputs": [
        {
          "output_type": "stream",
          "text": [
            "['sadness' 'worry' 'surprise' 'happiness' 'anger']\n"
          ],
          "name": "stdout"
        }
      ]
    },
    {
      "cell_type": "code",
      "metadata": {
        "colab": {
          "base_uri": "https://localhost:8080/"
        },
        "id": "GeYrnxjCryE6",
        "outputId": "e68e9e38-0705-4e3d-ca91-6d31c593a1a6"
      },
      "source": [
        "y_map = {} \r\n",
        "for i in range(len(y)):\r\n",
        "  y_map[y[i]] = i\r\n",
        "\r\n",
        "print(y_map)"
      ],
      "execution_count": 22,
      "outputs": [
        {
          "output_type": "stream",
          "text": [
            "{'sadness': 0, 'worry': 1, 'surprise': 2, 'happiness': 3, 'anger': 4}\n"
          ],
          "name": "stdout"
        }
      ]
    },
    {
      "cell_type": "code",
      "metadata": {
        "id": "6rELbXKjxDir"
      },
      "source": [
        "df.sentiment = df.sentiment.map(y_map)"
      ],
      "execution_count": 23,
      "outputs": []
    },
    {
      "cell_type": "code",
      "metadata": {
        "colab": {
          "base_uri": "https://localhost:8080/"
        },
        "id": "PyADXynkxE8I",
        "outputId": "a8f80b34-e56b-4dc0-f1cc-0846480f190a"
      },
      "source": [
        "# Generating one hot encoded data for the sentiment from the above labeled data\r\n",
        "from sklearn.preprocessing import OneHotEncoder\r\n",
        "enc = OneHotEncoder(handle_unknown='ignore')\r\n",
        "res = enc.fit_transform(df[['sentiment']]).toarray()\r\n",
        "print(res.shape)\r\n"
      ],
      "execution_count": 24,
      "outputs": [
        {
          "output_type": "stream",
          "text": [
            "(21130, 5)\n"
          ],
          "name": "stdout"
        }
      ]
    },
    {
      "cell_type": "code",
      "metadata": {
        "colab": {
          "base_uri": "https://localhost:8080/"
        },
        "id": "I6666HtfxUb2",
        "outputId": "bd28e20f-4b35-4d36-d439-8fa768dbfe71"
      },
      "source": [
        "Y= res\r\n",
        "print(Y)"
      ],
      "execution_count": 25,
      "outputs": [
        {
          "output_type": "stream",
          "text": [
            "[[1. 0. 0. 0. 0.]\n",
            " [1. 0. 0. 0. 0.]\n",
            " [0. 1. 0. 0. 0.]\n",
            " ...\n",
            " [0. 0. 0. 1. 0.]\n",
            " [0. 0. 0. 1. 0.]\n",
            " [0. 0. 0. 1. 0.]]\n"
          ],
          "name": "stdout"
        }
      ]
    },
    {
      "cell_type": "code",
      "metadata": {
        "id": "Ym18_cO2x_5b"
      },
      "source": [
        "from keras.layers import Embedding\n",
        "from sklearn.model_selection import train_test_split\n",
        "X_train, X_test, Y_train, Y_test = train_test_split(X, Y, test_size=0.1, random_state=42)"
      ],
      "execution_count": 26,
      "outputs": []
    },
    {
      "cell_type": "code",
      "metadata": {
        "id": "6C0Jq5za1313"
      },
      "source": [
        "def model1(X,Y,input_size1,input_size2,output_size):\n",
        "  m=Sequential()\n",
        "  m.add(Bidirectional(LSTM(100,input_shape=(input_size1,input_size2))))\n",
        "  m.add(Dropout(0.5))\n",
        "  m.add(Dense(output_size,activation='softmax'))\n",
        "  m.compile('Adam','categorical_crossentropy',['accuracy'])\n",
        "  m.fit(X,Y,epochs=10, batch_size=128)\n",
        "  return m"
      ],
      "execution_count": 27,
      "outputs": []
    },
    {
      "cell_type": "code",
      "metadata": {
        "id": "tRMU1ZdWPNGm",
        "colab": {
          "base_uri": "https://localhost:8080/"
        },
        "outputId": "6a256256-9437-4d1c-da1e-011bfe1fecb4"
      },
      "source": [
        "bilstmModel=model1(X_train,Y_train,50,50,5)"
      ],
      "execution_count": 28,
      "outputs": [
        {
          "output_type": "stream",
          "text": [
            "Epoch 1/10\n",
            "149/149 [==============================] - 10s 9ms/step - loss: 1.3468 - accuracy: 0.3993\n",
            "Epoch 2/10\n",
            "149/149 [==============================] - 1s 9ms/step - loss: 1.2280 - accuracy: 0.4724\n",
            "Epoch 3/10\n",
            "149/149 [==============================] - 1s 10ms/step - loss: 1.1949 - accuracy: 0.4794\n",
            "Epoch 4/10\n",
            "149/149 [==============================] - 1s 9ms/step - loss: 1.1764 - accuracy: 0.4968\n",
            "Epoch 5/10\n",
            "149/149 [==============================] - 1s 8ms/step - loss: 1.1669 - accuracy: 0.4938\n",
            "Epoch 6/10\n",
            "149/149 [==============================] - 1s 8ms/step - loss: 1.1584 - accuracy: 0.5019\n",
            "Epoch 7/10\n",
            "149/149 [==============================] - 1s 9ms/step - loss: 1.1425 - accuracy: 0.5103\n",
            "Epoch 8/10\n",
            "149/149 [==============================] - 1s 8ms/step - loss: 1.1399 - accuracy: 0.5056\n",
            "Epoch 9/10\n",
            "149/149 [==============================] - 1s 8ms/step - loss: 1.1248 - accuracy: 0.5137\n",
            "Epoch 10/10\n",
            "149/149 [==============================] - 1s 9ms/step - loss: 1.1101 - accuracy: 0.5244\n"
          ],
          "name": "stdout"
        }
      ]
    },
    {
      "cell_type": "markdown",
      "metadata": {
        "id": "s2W9s26Sx7aC"
      },
      "source": [
        ""
      ]
    },
    {
      "cell_type": "code",
      "metadata": {
        "id": "c0VnE59Uuv28",
        "colab": {
          "base_uri": "https://localhost:8080/"
        },
        "outputId": "fa65dbb3-9f04-4ef5-ddb5-4643612a988c"
      },
      "source": [
        "bilstmModel.evaluate(X_test,Y_test)"
      ],
      "execution_count": 29,
      "outputs": [
        {
          "output_type": "stream",
          "text": [
            "67/67 [==============================] - 1s 6ms/step - loss: 1.1730 - accuracy: 0.4950\n"
          ],
          "name": "stdout"
        },
        {
          "output_type": "execute_result",
          "data": {
            "text/plain": [
              "[1.1730314493179321, 0.4950307607650757]"
            ]
          },
          "metadata": {
            "tags": []
          },
          "execution_count": 29
        }
      ]
    },
    {
      "cell_type": "code",
      "metadata": {
        "colab": {
          "base_uri": "https://localhost:8080/"
        },
        "id": "yMc51wLeyJJl",
        "outputId": "e8ef7569-e169-47d6-da6c-0eb2fc0fa157"
      },
      "source": [
        "y_inverse_map={}\r\n",
        "for i in y_map:\r\n",
        "  y_inverse_map[y_map[i]]=i\r\n",
        "print(y_inverse_map)"
      ],
      "execution_count": 30,
      "outputs": [
        {
          "output_type": "stream",
          "text": [
            "{0: 'sadness', 1: 'worry', 2: 'surprise', 3: 'happiness', 4: 'anger'}\n"
          ],
          "name": "stdout"
        }
      ]
    },
    {
      "cell_type": "code",
      "metadata": {
        "id": "y1PFe0lNmqFm"
      },
      "source": [
        "def prepare(s):\r\n",
        "  s=word_tokenize(s)\r\n",
        "  #print(\"s= \",s)\r\n",
        "  k=padd(s)\r\n",
        "  embedded_arr=[]\r\n",
        "  embedded_arr.append([])\r\n",
        "  for word in k:\r\n",
        "        if word.lower() in word_to_emb:\r\n",
        "            embedded_arr[-1].append(word_to_emb[word.lower()])\r\n",
        "        else:\r\n",
        "            embedded_arr[-1].append([0]*50)\r\n",
        "  x_input=np.array(embedded_arr)\r\n",
        "  #print(np.shape(x_input))\r\n",
        "  arr = bilstmModel.predict(x_input)\r\n",
        "  return arr.argmax()"
      ],
      "execution_count": 31,
      "outputs": []
    },
    {
      "cell_type": "code",
      "metadata": {
        "colab": {
          "base_uri": "https://localhost:8080/"
        },
        "id": "MzB5XYF9oQlJ",
        "outputId": "b1c93c69-960c-4801-a4f2-d1909e731abb"
      },
      "source": [
        "s=input()\r\n",
        "emotion=prepare(s)\r\n",
        "print(y_inverse_map[emotion])"
      ],
      "execution_count": 49,
      "outputs": [
        {
          "output_type": "stream",
          "text": [
            "what a sunny day!\n",
            "happiness\n"
          ],
          "name": "stdout"
        }
      ]
    },
    {
      "cell_type": "code",
      "metadata": {
        "id": "2FO74lah3E6a"
      },
      "source": [
        "bilstmModel.save('lstm_model.h5')"
      ],
      "execution_count": 50,
      "outputs": []
    },
    {
      "cell_type": "code",
      "metadata": {
        "id": "MN32X7jcMB3n"
      },
      "source": [
        ""
      ],
      "execution_count": null,
      "outputs": []
    }
  ]
}